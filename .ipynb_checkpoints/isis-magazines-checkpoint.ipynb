{
 "cells": [
  {
   "cell_type": "markdown",
   "metadata": {},
   "source": [
    "## Scraping text from PDFs"
   ]
  },
  {
   "cell_type": "code",
   "execution_count": 1,
   "metadata": {
    "collapsed": true
   },
   "outputs": [],
   "source": [
    "import textract, os, codecs"
   ]
  },
  {
   "cell_type": "code",
   "execution_count": 2,
   "metadata": {
    "collapsed": false
   },
   "outputs": [
    {
     "data": {
      "text/plain": [
       "\"This is a test.\\r\\n\\r\\n\\x0c\\x0cHello, I'm page three.\\r\\n\\r\\n\\x0c\\x0c\""
      ]
     },
     "execution_count": 2,
     "metadata": {},
     "output_type": "execute_result"
    }
   ],
   "source": [
    "# example of using textract\n",
    "textract.process('example.pdf', encoding='utf-8')"
   ]
  },
  {
   "cell_type": "code",
   "execution_count": 4,
   "metadata": {
    "collapsed": false
   },
   "outputs": [
    {
     "name": "stdout",
     "output_type": "stream",
     "text": [
      "getting:  1.pdf\n",
      "writing:  dabiq-text\\1.txt\n",
      "getting:  10.pdf\n",
      "writing:  dabiq-text\\10.txt\n",
      "getting:  11.pdf\n",
      "writing:  dabiq-text\\11.txt\n",
      "getting:  12.pdf\n",
      "writing:  dabiq-text\\12.txt\n",
      "getting:  13.pdf\n",
      "writing:  dabiq-text\\13.txt\n",
      "getting:  14.pdf\n",
      "writing:  dabiq-text\\14.txt\n",
      "getting:  2.pdf\n",
      "writing:  dabiq-text\\2.txt\n",
      "getting:  3.pdf\n",
      "writing:  dabiq-text\\3.txt\n",
      "getting:  4.pdf\n",
      "writing:  dabiq-text\\4.txt\n",
      "getting:  5.pdf\n",
      "writing:  dabiq-text\\5.txt\n",
      "getting:  6.pdf\n",
      "writing:  dabiq-text\\6.txt\n",
      "getting:  7.pdf\n",
      "writing:  dabiq-text\\7.txt\n",
      "getting:  8.pdf\n",
      "writing:  dabiq-text\\8.txt\n",
      "getting:  9.pdf\n",
      "writing:  dabiq-text\\9.txt\n"
     ]
    }
   ],
   "source": [
    "files = os.listdir('dabiq-pdfs')\n",
    "\n",
    "for f in files:\n",
    "    print 'getting: ', f\n",
    "    filepath = 'dabiq-pdfs\\\\' + f\n",
    "    text = textract.process(filepath, encoding='utf-8')\n",
    "    \n",
    "    savefileas = 'dabiq-text\\\\' + f[:-4] + '.txt'\n",
    "    \n",
    "    print 'writing: ', savefileas\n",
    "    with open(savefileas, 'w') as w:\n",
    "        w.write(text)"
   ]
  },
  {
   "cell_type": "code",
   "execution_count": null,
   "metadata": {
    "collapsed": false
   },
   "outputs": [],
   "source": []
  },
  {
   "cell_type": "code",
   "execution_count": null,
   "metadata": {
    "collapsed": false
   },
   "outputs": [],
   "source": []
  },
  {
   "cell_type": "code",
   "execution_count": null,
   "metadata": {
    "collapsed": true
   },
   "outputs": [],
   "source": []
  },
  {
   "cell_type": "code",
   "execution_count": null,
   "metadata": {
    "collapsed": true
   },
   "outputs": [],
   "source": []
  }
 ],
 "metadata": {
  "kernelspec": {
   "display_name": "Python 2",
   "language": "python",
   "name": "python2"
  },
  "language_info": {
   "codemirror_mode": {
    "name": "ipython",
    "version": 2
   },
   "file_extension": ".py",
   "mimetype": "text/x-python",
   "name": "python",
   "nbconvert_exporter": "python",
   "pygments_lexer": "ipython2",
   "version": "2.7.11"
  }
 },
 "nbformat": 4,
 "nbformat_minor": 0
}
